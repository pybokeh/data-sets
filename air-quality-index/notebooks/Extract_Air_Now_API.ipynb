{
 "cells": [
  {
   "cell_type": "markdown",
   "id": "8cb7f8e8-cd80-4acd-9aca-527d5f68a363",
   "metadata": {},
   "source": [
    "# Using Air Now API for Extraction of Real-Time AQI"
   ]
  },
  {
   "cell_type": "code",
   "execution_count": 11,
   "id": "e50009ea-4ec1-4e10-a4e7-77c1fb65f900",
   "metadata": {},
   "outputs": [],
   "source": [
    "import configparser\n",
    "import json\n",
    "import pandas as pd\n",
    "import requests\n",
    "import urllib3\n",
    "from io import StringIO\n",
    "from pathlib import Path\n",
    "from urllib3.util.ssl_ import create_urllib3_context"
   ]
  },
  {
   "cell_type": "code",
   "execution_count": 2,
   "id": "7c794576-b12f-4f1f-a2e6-38274fe0df7c",
   "metadata": {},
   "outputs": [
    {
     "data": {
      "text/plain": [
       "['/home/pybokeh/.config/config.ini']"
      ]
     },
     "execution_count": 2,
     "metadata": {},
     "output_type": "execute_result"
    }
   ],
   "source": [
    "config = configparser.ConfigParser()\n",
    "config.read(Path.home() / '.config' / 'config.ini')"
   ]
  },
  {
   "cell_type": "code",
   "execution_count": 3,
   "id": "5ada6d8c-e588-466d-b358-f9cc97f1fdca",
   "metadata": {},
   "outputs": [],
   "source": [
    "air_now_key = config['air_now']['key']"
   ]
  },
  {
   "cell_type": "markdown",
   "id": "90abacae-421c-4f4e-ad24-ee6543562602",
   "metadata": {},
   "source": [
    "#### Extracting AQI given a Zip Code"
   ]
  },
  {
   "cell_type": "code",
   "execution_count": 4,
   "id": "9dbb407b-03cc-467e-ac29-ace7607aa860",
   "metadata": {},
   "outputs": [],
   "source": [
    "zip_code = '22701'"
   ]
  },
  {
   "cell_type": "code",
   "execution_count": 5,
   "id": "24d67901-c7fc-457e-8722-7b042aa20ba3",
   "metadata": {},
   "outputs": [],
   "source": [
    "url = f\"https://www.airnowapi.org/aq/observation/zipCode/current/?format=text/csv&zipCode={zip_code}&distance=25&API_KEY={air_now_key}\""
   ]
  },
  {
   "cell_type": "code",
   "execution_count": 7,
   "id": "9400b7c6-1ab6-4523-9a94-023f3128c29e",
   "metadata": {},
   "outputs": [
    {
     "name": "stdout",
     "output_type": "stream",
     "text": [
      "200\n"
     ]
    }
   ],
   "source": [
    "ctx = create_urllib3_context()\n",
    "ctx.load_default_certs()\n",
    "ctx.options |= 0x4  # ssl.OP_LEGACY_SERVER_CONNECT\n",
    "\n",
    "with urllib3.PoolManager(ssl_context=ctx) as http:\n",
    "    r = http.request(\"GET\", url)\n",
    "    print(r.status)"
   ]
  },
  {
   "cell_type": "code",
   "execution_count": 12,
   "id": "06dc00c1-4722-412e-9421-a66b0050a426",
   "metadata": {},
   "outputs": [
    {
     "data": {
      "text/html": [
       "<div>\n",
       "<style scoped>\n",
       "    .dataframe tbody tr th:only-of-type {\n",
       "        vertical-align: middle;\n",
       "    }\n",
       "\n",
       "    .dataframe tbody tr th {\n",
       "        vertical-align: top;\n",
       "    }\n",
       "\n",
       "    .dataframe thead th {\n",
       "        text-align: right;\n",
       "    }\n",
       "</style>\n",
       "<table border=\"1\" class=\"dataframe\">\n",
       "  <thead>\n",
       "    <tr style=\"text-align: right;\">\n",
       "      <th></th>\n",
       "      <th>DateObserved</th>\n",
       "      <th>HourObserved</th>\n",
       "      <th>LocalTimeZone</th>\n",
       "      <th>ReportingArea</th>\n",
       "      <th>StateCode</th>\n",
       "      <th>Latitude</th>\n",
       "      <th>Longitude</th>\n",
       "      <th>ParameterName</th>\n",
       "      <th>AQI</th>\n",
       "      <th>CategoryNumber</th>\n",
       "      <th>CategoryName</th>\n",
       "    </tr>\n",
       "  </thead>\n",
       "  <tbody>\n",
       "    <tr>\n",
       "      <th>0</th>\n",
       "      <td>2023-06-07</td>\n",
       "      <td>18</td>\n",
       "      <td>EST</td>\n",
       "      <td>Shenandoah National Park</td>\n",
       "      <td>VA</td>\n",
       "      <td>38.5231</td>\n",
       "      <td>-78.4347</td>\n",
       "      <td>O3</td>\n",
       "      <td>48</td>\n",
       "      <td>1</td>\n",
       "      <td>Good</td>\n",
       "    </tr>\n",
       "    <tr>\n",
       "      <th>1</th>\n",
       "      <td>2023-06-07</td>\n",
       "      <td>18</td>\n",
       "      <td>EST</td>\n",
       "      <td>Shenandoah National Park</td>\n",
       "      <td>VA</td>\n",
       "      <td>38.5231</td>\n",
       "      <td>-78.4347</td>\n",
       "      <td>PM2.5</td>\n",
       "      <td>91</td>\n",
       "      <td>2</td>\n",
       "      <td>Moderate</td>\n",
       "    </tr>\n",
       "  </tbody>\n",
       "</table>\n",
       "</div>"
      ],
      "text/plain": [
       "  DateObserved  HourObserved LocalTimeZone             ReportingArea  \\\n",
       "0  2023-06-07             18           EST  Shenandoah National Park   \n",
       "1  2023-06-07             18           EST  Shenandoah National Park   \n",
       "\n",
       "  StateCode  Latitude  Longitude ParameterName  AQI  CategoryNumber  \\\n",
       "0        VA   38.5231   -78.4347            O3   48               1   \n",
       "1        VA   38.5231   -78.4347         PM2.5   91               2   \n",
       "\n",
       "  CategoryName  \n",
       "0         Good  \n",
       "1     Moderate  "
      ]
     },
     "execution_count": 12,
     "metadata": {},
     "output_type": "execute_result"
    }
   ],
   "source": [
    "pd.read_csv(StringIO(r.data.decode('utf-8')))"
   ]
  }
 ],
 "metadata": {
  "kernelspec": {
   "display_name": "Py3.10 (sql_dev)",
   "language": "python",
   "name": "sql_dev"
  },
  "language_info": {
   "codemirror_mode": {
    "name": "ipython",
    "version": 3
   },
   "file_extension": ".py",
   "mimetype": "text/x-python",
   "name": "python",
   "nbconvert_exporter": "python",
   "pygments_lexer": "ipython3",
   "version": "3.10.6"
  }
 },
 "nbformat": 4,
 "nbformat_minor": 5
}
