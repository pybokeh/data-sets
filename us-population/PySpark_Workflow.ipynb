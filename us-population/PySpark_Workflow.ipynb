{
 "cells": [
  {
   "cell_type": "code",
   "execution_count": 31,
   "id": "1ff31285-8fc8-491f-a4ef-7ef386a2ac29",
   "metadata": {},
   "outputs": [],
   "source": [
    "from pathlib import Path\n",
    "import configparser\n",
    "import pyspark\n",
    "from pyspark.sql import SparkSession\n",
    "from pyspark.sql.functions import col"
   ]
  },
  {
   "cell_type": "code",
   "execution_count": 2,
   "id": "862c1c60-3a13-438d-8750-9da8601cfbfb",
   "metadata": {},
   "outputs": [],
   "source": [
    "config_file = '/home/pybokeh/config.ini'"
   ]
  },
  {
   "cell_type": "code",
   "execution_count": 3,
   "id": "02570dc0-cb3d-4374-aeea-72d53a6b4c64",
   "metadata": {},
   "outputs": [],
   "source": [
    "config = configparser.ConfigParser()\n",
    "try:\n",
    "    config.read(config_file)\n",
    "except ConfigFileNotFound:\n",
    "    print(\"config.ini file not found\")"
   ]
  },
  {
   "cell_type": "code",
   "execution_count": 4,
   "id": "5f52f219-8cb3-40f5-a51f-2a44cde2e97d",
   "metadata": {},
   "outputs": [],
   "source": [
    "postgres_jdbc_driver = Path(config['postgresql']['jdbc_driver_path'])"
   ]
  },
  {
   "cell_type": "code",
   "execution_count": 5,
   "id": "691c789c-44f1-4aab-bf36-f0fd05708a41",
   "metadata": {},
   "outputs": [],
   "source": [
    "# Read in the Postgresql database credentials for DSN-less connection\n",
    "pg_host = config[\"postgresql\"][\"host\"]\n",
    "pg_port = config[\"postgresql\"][\"port\"]\n",
    "pg_db = config[\"postgresql\"][\"database\"]\n",
    "pg_user = config[\"postgresql\"][\"username\"]\n",
    "pg_pwd = config[\"postgresql\"][\"password\"]"
   ]
  },
  {
   "cell_type": "code",
   "execution_count": 6,
   "id": "48e2a7be-c7ed-4085-8e7e-32b906980aa5",
   "metadata": {},
   "outputs": [],
   "source": [
    "url = f'jdbc:postgresql://{pg_host}:{pg_port}/{pg_db}'\n",
    "driver = 'org.postgresql.Driver'"
   ]
  },
  {
   "cell_type": "code",
   "execution_count": 7,
   "id": "2d3f772f-2346-45c8-849c-2344f315c5d1",
   "metadata": {},
   "outputs": [
    {
     "name": "stdout",
     "output_type": "stream",
     "text": [
      "23/05/21 01:51:04 WARN Utils: Your hostname, pybokeh-Lemur resolves to a loopback address: 127.0.1.1; using 192.168.1.147 instead (on interface wlp2s0)\n",
      "23/05/21 01:51:04 WARN Utils: Set SPARK_LOCAL_IP if you need to bind to another address\n",
      "23/05/21 01:51:06 WARN NativeCodeLoader: Unable to load native-hadoop library for your platform... using builtin-java classes where applicable\n"
     ]
    },
    {
     "name": "stderr",
     "output_type": "stream",
     "text": [
      "Setting default log level to \"WARN\".\n",
      "To adjust logging level use sc.setLogLevel(newLevel). For SparkR, use setLogLevel(newLevel).\n"
     ]
    }
   ],
   "source": [
    "spark = (\n",
    "    SparkSession\n",
    "    .builder.master(\"local[*]\")\n",
    "    .appName(\"Postgres\")\n",
    "    .config(\"spark.jars\", postgres_jdbc_driver)\n",
    "    .getOrCreate()\n",
    ")"
   ]
  },
  {
   "cell_type": "code",
   "execution_count": 18,
   "id": "054485bb-12a8-4e21-8d03-f0ae88819b48",
   "metadata": {},
   "outputs": [],
   "source": [
    "query = \"SELECT * from public.us_counties_pop_est_2010_2019_raw\""
   ]
  },
  {
   "cell_type": "code",
   "execution_count": 25,
   "id": "450018d1-86f4-4e71-b04f-c04b2b9643fc",
   "metadata": {},
   "outputs": [],
   "source": [
    "us_counties_pop_est_2010_2019_raw = (\n",
    "    spark.read\n",
    "    .format(\"jdbc\")\n",
    "    .option(\"driver\", driver)\n",
    "    .option(\"url\", url)\n",
    "    .option(\"user\", pg_user)\n",
    "    .option(\"password\", pg_pwd)\n",
    "    .option(\"query\", \"SELECT * from public.us_counties_pop_est_2010_2019_raw\")\n",
    "    .load()\n",
    ")"
   ]
  },
  {
   "cell_type": "code",
   "execution_count": 26,
   "id": "e7f91394-5ffc-49e1-9e1b-43d5279d3ac7",
   "metadata": {},
   "outputs": [],
   "source": [
    "regions = (\n",
    "    spark.read\n",
    "    .format(\"jdbc\")\n",
    "    .option(\"driver\", driver)\n",
    "    .option(\"url\", url)\n",
    "    .option(\"user\", pg_user)\n",
    "    .option(\"password\", pg_pwd)\n",
    "    .option(\"query\", \"SELECT * from public.regions\")\n",
    "    .load()\n",
    ")"
   ]
  },
  {
   "cell_type": "code",
   "execution_count": 27,
   "id": "f3163410-b8ff-4b8a-beb5-b18be3c31e10",
   "metadata": {},
   "outputs": [],
   "source": [
    "divisions = (\n",
    "    spark.read\n",
    "    .format(\"jdbc\")\n",
    "    .option(\"driver\", driver)\n",
    "    .option(\"url\", url)\n",
    "    .option(\"user\", pg_user)\n",
    "    .option(\"password\", pg_pwd)\n",
    "    .option(\"query\", \"SELECT * from public.divisions\")\n",
    "    .load()\n",
    ")"
   ]
  },
  {
   "cell_type": "code",
   "execution_count": 53,
   "id": "19e62d96-63a0-4675-be90-a3f7474563c5",
   "metadata": {},
   "outputs": [
    {
     "data": {
      "text/plain": [
       "['sumlev',\n",
       " 'region',\n",
       " 'division',\n",
       " 'state',\n",
       " 'county',\n",
       " 'stname',\n",
       " 'ctyname',\n",
       " 'census2010pop',\n",
       " 'estimatesbase2010',\n",
       " 'popestimate2010',\n",
       " 'popestimate2011',\n",
       " 'popestimate2012',\n",
       " 'popestimate2013',\n",
       " 'popestimate2014',\n",
       " 'popestimate2015',\n",
       " 'popestimate2016',\n",
       " 'popestimate2017',\n",
       " 'popestimate2018',\n",
       " 'popestimate2019',\n",
       " 'npopchg_2010']"
      ]
     },
     "execution_count": 53,
     "metadata": {},
     "output_type": "execute_result"
    }
   ],
   "source": [
    "us_counties_pop_est_2010_2019_raw.columns[:20]"
   ]
  },
  {
   "cell_type": "code",
   "execution_count": 37,
   "id": "64f374ba-cf17-42d5-9e56-21691524d4b9",
   "metadata": {},
   "outputs": [
    {
     "name": "stdout",
     "output_type": "stream",
     "text": [
      "+----------+-----------+----------+---------------+------+--------+\n",
      "|state_fips|county_fips|state_name|    county_name|region|division|\n",
      "+----------+-----------+----------+---------------+------+--------+\n",
      "|        01|        000|   Alabama|        Alabama|     3|       6|\n",
      "|        01|        001|   Alabama| Autauga County|     3|       6|\n",
      "|        01|        003|   Alabama| Baldwin County|     3|       6|\n",
      "|        01|        005|   Alabama| Barbour County|     3|       6|\n",
      "|        01|        007|   Alabama|    Bibb County|     3|       6|\n",
      "|        01|        009|   Alabama|  Blount County|     3|       6|\n",
      "|        01|        011|   Alabama| Bullock County|     3|       6|\n",
      "|        01|        013|   Alabama|  Butler County|     3|       6|\n",
      "|        01|        015|   Alabama| Calhoun County|     3|       6|\n",
      "|        01|        017|   Alabama|Chambers County|     3|       6|\n",
      "|        01|        019|   Alabama|Cherokee County|     3|       6|\n",
      "|        01|        021|   Alabama| Chilton County|     3|       6|\n",
      "|        01|        023|   Alabama| Choctaw County|     3|       6|\n",
      "|        01|        025|   Alabama|  Clarke County|     3|       6|\n",
      "|        01|        027|   Alabama|    Clay County|     3|       6|\n",
      "|        01|        029|   Alabama|Cleburne County|     3|       6|\n",
      "|        01|        031|   Alabama|  Coffee County|     3|       6|\n",
      "|        01|        033|   Alabama| Colbert County|     3|       6|\n",
      "|        01|        035|   Alabama| Conecuh County|     3|       6|\n",
      "|        01|        037|   Alabama|   Coosa County|     3|       6|\n",
      "+----------+-----------+----------+---------------+------+--------+\n",
      "only showing top 20 rows\n",
      "\n"
     ]
    }
   ],
   "source": [
    "us_counties_pop_est_2010_2019_raw.select(\n",
    "    col('state').alias('state_fips'),\n",
    "    col('county').alias('county_fips'),\n",
    "    col('stname').alias('state_name'),\n",
    "    col('ctyname').alias('county_name'),\n",
    "    col('region'),\n",
    "    col('division'),\n",
    ").show()"
   ]
  },
  {
   "cell_type": "code",
   "execution_count": 29,
   "id": "407ae4d1-497f-4dd6-99c5-17ce621b07f4",
   "metadata": {},
   "outputs": [
    {
     "name": "stdout",
     "output_type": "stream",
     "text": [
      "+------+-----------+\n",
      "|region|region_name|\n",
      "+------+-----------+\n",
      "|     1|  Northeast|\n",
      "|     2|    Midwest|\n",
      "|     3|      South|\n",
      "|     4|       West|\n",
      "+------+-----------+\n",
      "\n"
     ]
    }
   ],
   "source": [
    "regions.show()"
   ]
  },
  {
   "cell_type": "code",
   "execution_count": 30,
   "id": "a43c0374-6fb7-4ca5-b39f-cc139bcc0268",
   "metadata": {},
   "outputs": [
    {
     "name": "stdout",
     "output_type": "stream",
     "text": [
      "+--------+------------------+\n",
      "|division|     division_name|\n",
      "+--------+------------------+\n",
      "|       1|       New England|\n",
      "|       2|   Middle Atlantic|\n",
      "|       3|East North Central|\n",
      "|       4|West North Central|\n",
      "|       5|    South Atlantic|\n",
      "|       6|East South Central|\n",
      "|       7|West South Central|\n",
      "|       8|           Montain|\n",
      "|       9|           Pacific|\n",
      "+--------+------------------+\n",
      "\n"
     ]
    }
   ],
   "source": [
    "divisions.show()"
   ]
  },
  {
   "cell_type": "markdown",
   "id": "9c8e3679-b9fa-4261-88f9-b8e3c48585c8",
   "metadata": {},
   "source": [
    "#### Let's merge the 3 tables"
   ]
  },
  {
   "cell_type": "code",
   "execution_count": 57,
   "id": "4a46fdae-14b0-4b85-bb9d-1be13e14a286",
   "metadata": {},
   "outputs": [
    {
     "name": "stdout",
     "output_type": "stream",
     "text": [
      "+----------+-----------+----------+---------------+------+--------+-----------+------------------+\n",
      "|state_fips|county_fips|state_name|    county_name|region|division|region_name|     division_name|\n",
      "+----------+-----------+----------+---------------+------+--------+-----------+------------------+\n",
      "|        01|        000|   Alabama|        Alabama|     3|       6|      South|East South Central|\n",
      "|        01|        001|   Alabama| Autauga County|     3|       6|      South|East South Central|\n",
      "|        01|        003|   Alabama| Baldwin County|     3|       6|      South|East South Central|\n",
      "|        01|        005|   Alabama| Barbour County|     3|       6|      South|East South Central|\n",
      "|        01|        007|   Alabama|    Bibb County|     3|       6|      South|East South Central|\n",
      "|        01|        009|   Alabama|  Blount County|     3|       6|      South|East South Central|\n",
      "|        01|        011|   Alabama| Bullock County|     3|       6|      South|East South Central|\n",
      "|        01|        013|   Alabama|  Butler County|     3|       6|      South|East South Central|\n",
      "|        01|        015|   Alabama| Calhoun County|     3|       6|      South|East South Central|\n",
      "|        01|        017|   Alabama|Chambers County|     3|       6|      South|East South Central|\n",
      "|        01|        019|   Alabama|Cherokee County|     3|       6|      South|East South Central|\n",
      "|        01|        021|   Alabama| Chilton County|     3|       6|      South|East South Central|\n",
      "|        01|        023|   Alabama| Choctaw County|     3|       6|      South|East South Central|\n",
      "|        01|        025|   Alabama|  Clarke County|     3|       6|      South|East South Central|\n",
      "|        01|        027|   Alabama|    Clay County|     3|       6|      South|East South Central|\n",
      "|        01|        029|   Alabama|Cleburne County|     3|       6|      South|East South Central|\n",
      "|        01|        031|   Alabama|  Coffee County|     3|       6|      South|East South Central|\n",
      "|        01|        033|   Alabama| Colbert County|     3|       6|      South|East South Central|\n",
      "|        01|        035|   Alabama| Conecuh County|     3|       6|      South|East South Central|\n",
      "|        01|        037|   Alabama|   Coosa County|     3|       6|      South|East South Central|\n",
      "+----------+-----------+----------+---------------+------+--------+-----------+------------------+\n",
      "only showing top 20 rows\n",
      "\n"
     ]
    }
   ],
   "source": [
    "(\n",
    "    us_counties_pop_est_2010_2019_raw.select(\n",
    "    col('state').alias('state_fips'),\n",
    "    col('county').alias('county_fips'),\n",
    "    col('stname').alias('state_name'),\n",
    "    col('ctyname').alias('county_name'),\n",
    "    col('region'),\n",
    "    col('division'),\n",
    "    ).join(\n",
    "        regions,\n",
    "        us_counties_pop_est_2010_2019_raw.region == regions.region,\n",
    "        'left'\n",
    "    ).join(\n",
    "        divisions,\n",
    "        us_counties_pop_est_2010_2019_raw.division == divisions.division,\n",
    "        'left'\n",
    "    )\n",
    "    .drop(regions.region)\n",
    "    .drop(divisions.division)\n",
    ").show()"
   ]
  },
  {
   "cell_type": "markdown",
   "id": "b8a2ce0c-0898-4c08-84e9-32e5100db670",
   "metadata": {},
   "source": [
    "#### If the resulting dataframe above is what we want, we can then write this dataframe as a PostgreSQL table"
   ]
  },
  {
   "cell_type": "code",
   "execution_count": 61,
   "id": "7b9c8c53-0378-4ef8-bb34-e17aac3deeb2",
   "metadata": {},
   "outputs": [],
   "source": [
    "(\n",
    "    us_counties_pop_est_2010_2019_raw.select(\n",
    "    col('state').alias('state_fips'),\n",
    "    col('county').alias('county_fips'),\n",
    "    col('stname').alias('state_name'),\n",
    "    col('ctyname').alias('county_name'),\n",
    "    col('region'),\n",
    "    col('division'),\n",
    "    ).join(\n",
    "        regions,\n",
    "        us_counties_pop_est_2010_2019_raw.region == regions.region,\n",
    "        'left'\n",
    "    ).join(\n",
    "        divisions,\n",
    "        us_counties_pop_est_2010_2019_raw.division == divisions.division,\n",
    "        'left'\n",
    "    )\n",
    "    .drop(regions.region)\n",
    "    .drop(divisions.division)\n",
    "    # The following are needed to write this dataframe as a PostgreSQL table\n",
    "    .write.format(\"jdbc\")\n",
    "    .option(\"url\", url)\n",
    "    .option(\"driver\", driver)\n",
    "    .option(\"dbtable\", \"public.us_pop_shortened\")\n",
    "    .option(\"user\", pg_user)\n",
    "    .option(\"password\", pg_pwd)\n",
    "    .mode(\"overwrite\")\n",
    "    .save()\n",
    ")"
   ]
  }
 ],
 "metadata": {
  "kernelspec": {
   "display_name": "Py3.10 (PySpark 3.3.2)",
   "language": "python",
   "name": "pyspark_local"
  },
  "language_info": {
   "codemirror_mode": {
    "name": "ipython",
    "version": 3
   },
   "file_extension": ".py",
   "mimetype": "text/x-python",
   "name": "python",
   "nbconvert_exporter": "python",
   "pygments_lexer": "ipython3",
   "version": "3.10.6"
  }
 },
 "nbformat": 4,
 "nbformat_minor": 5
}
